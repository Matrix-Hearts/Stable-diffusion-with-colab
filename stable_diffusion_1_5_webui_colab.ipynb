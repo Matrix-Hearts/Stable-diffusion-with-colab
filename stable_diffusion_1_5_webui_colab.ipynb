{
  "cells": [
    {
      "cell_type": "markdown",
      "metadata": {
        "id": "view-in-github",
        "colab_type": "text"
      },
      "source": [
        "<a href=\"https://colab.research.google.com/github/Signinn/Stable-diffusion-with-colab/blob/main/stable_diffusion_1_5_webui_colab.ipynb\" target=\"_parent\"><img src=\"https://colab.research.google.com/assets/colab-badge.svg\" alt=\"Open In Colab\"/></a>"
      ]
    },
    {
      "cell_type": "markdown",
      "source": [
        "# **Step 1: Load google Drive**"
      ],
      "metadata": {
        "id": "biEG6-5hi7tI"
      }
    },
    {
      "cell_type": "code",
      "source": [
        "from google.colab import drive\n",
        "drive.mount('/content/drive')"
      ],
      "metadata": {
        "id": "nr9PQOxsrA9i",
        "colab": {
          "base_uri": "https://localhost:8080/"
        },
        "outputId": "c3f54346-d704-4159-e63b-4f13d15f6524"
      },
      "execution_count": null,
      "outputs": [
        {
          "output_type": "stream",
          "name": "stdout",
          "text": [
            "Mounted at /content/drive\n"
          ]
        }
      ]
    },
    {
      "cell_type": "markdown",
      "source": [
        "# **Step 2：Setup the web ui**"
      ],
      "metadata": {
        "id": "C_L1vVd4kJNY"
      }
    },
    {
      "cell_type": "code",
      "execution_count": null,
      "metadata": {
        "id": "SaAJk33ppFw1"
      },
      "outputs": [],
      "source": [
        "%cd /content\n",
        "import os\n",
        "from google.colab.output import eval_js\n",
        "os.environ['colab_url'] = eval_js(\"google.colab.kernel.proxyPort(7860, {'cache': false})\")\n",
        "\n",
        "!apt -y update -qq\n",
        "!wget http://launchpadlibrarian.net/367274644/libgoogle-perftools-dev_2.5-2.2ubuntu3_amd64.deb\n",
        "!wget https://launchpad.net/ubuntu/+source/google-perftools/2.5-2.2ubuntu3/+build/14795286/+files/google-perftools_2.5-2.2ubuntu3_all.deb\n",
        "!wget https://launchpad.net/ubuntu/+source/google-perftools/2.5-2.2ubuntu3/+build/14795286/+files/libtcmalloc-minimal4_2.5-2.2ubuntu3_amd64.deb\n",
        "!wget https://launchpad.net/ubuntu/+source/google-perftools/2.5-2.2ubuntu3/+build/14795286/+files/libgoogle-perftools4_2.5-2.2ubuntu3_amd64.deb\n",
        "!apt install -qq libunwind8-dev\n",
        "!dpkg -i *.deb\n",
        "%env LD_PRELOAD=libtcmalloc.so\n",
        "!rm *.deb\n",
        "\n",
        "!pip install torch==1.13.1+cu116 torchvision==0.14.1+cu116 torchaudio==0.13.1 --extra-index-url https://download.pytorch.org/whl/cu116 -U\n",
        "!apt -y install -qq aria2\n",
        "!pip install -q xformers==0.0.16\n",
        "!pip install -q triton==2.0.0\n",
        "\n",
        "!git clone -b v2.0 https://github.com/camenduru/stable-diffusion-webui\n",
        "!wget https://raw.githubusercontent.com/camenduru/stable-diffusion-webui-scripts/main/run_n_times.py -O /content/stable-diffusion-webui/scripts/run_n_times.py\n",
        "!git clone https://github.com/deforum-art/deforum-for-automatic1111-webui /content/stable-diffusion-webui/extensions/deforum-for-automatic1111-webui\n",
        "!git clone https://github.com/AlUlkesh/stable-diffusion-webui-images-browser /content/stable-diffusion-webui/extensions/stable-diffusion-webui-images-browser\n",
        "!git clone https://github.com/camenduru/stable-diffusion-webui-huggingface /content/stable-diffusion-webui/extensions/stable-diffusion-webui-huggingface\n",
        "!git clone -b v2.0 https://github.com/camenduru/sd-civitai-browser /content/stable-diffusion-webui/extensions/sd-civitai-browser\n",
        "!git clone https://github.com/kohya-ss/sd-webui-additional-networks /content/stable-diffusion-webui/extensions/sd-webui-additional-networks\n",
        "!git clone https://github.com/Mikubill/sd-webui-controlnet /content/stable-diffusion-webui/extensions/sd-webui-controlnet\n",
        "!git clone https://github.com/camenduru/openpose-editor /content/stable-diffusion-webui/extensions/openpose-editor\n",
        "!git clone https://github.com/jexom/sd-webui-depth-lib /content/stable-diffusion-webui/extensions/sd-webui-depth-lib\n",
        "!git clone https://github.com/hnmr293/posex /content/stable-diffusion-webui/extensions/posex\n",
        "!git clone https://github.com/camenduru/sd-webui-tunnels /content/stable-diffusion-webui/extensions/sd-webui-tunnels\n",
        "!git clone https://github.com/etherealxx/batchlinks-webui /content/stable-diffusion-webui/extensions/batchlinks-webui\n",
        "!git clone https://github.com/camenduru/stable-diffusion-webui-catppuccin /content/stable-diffusion-webui/extensions/stable-diffusion-webui-catppuccin\n",
        "!git clone https://github.com/KohakuBlueleaf/a1111-sd-webui-locon /content/stable-diffusion-webui/extensions/a1111-sd-webui-locon\n",
        "%cd /content/stable-diffusion-webui\n",
        "!git reset --hard\n",
        "\n",
        "!aria2c --console-log-level=error -c -x 16 -s 16 -k 1M https://huggingface.co/ckpt/ControlNet/resolve/main/control_canny-fp16.safetensors -d /content/stable-diffusion-webui/extensions/sd-webui-controlnet/models -o control_canny-fp16.safetensors\n",
        "!aria2c --console-log-level=error -c -x 16 -s 16 -k 1M https://huggingface.co/ckpt/ControlNet/resolve/main/control_depth-fp16.safetensors -d /content/stable-diffusion-webui/extensions/sd-webui-controlnet/models -o control_depth-fp16.safetensors\n",
        "!aria2c --console-log-level=error -c -x 16 -s 16 -k 1M https://huggingface.co/ckpt/ControlNet/resolve/main/control_hed-fp16.safetensors -d /content/stable-diffusion-webui/extensions/sd-webui-controlnet/models -o control_hed-fp16.safetensors\n",
        "!aria2c --console-log-level=error -c -x 16 -s 16 -k 1M https://huggingface.co/ckpt/ControlNet/resolve/main/control_mlsd-fp16.safetensors -d /content/stable-diffusion-webui/extensions/sd-webui-controlnet/models -o control_mlsd-fp16.safetensors\n",
        "!aria2c --console-log-level=error -c -x 16 -s 16 -k 1M https://huggingface.co/ckpt/ControlNet/resolve/main/control_normal-fp16.safetensors -d /content/stable-diffusion-webui/extensions/sd-webui-controlnet/models -o control_normal-fp16.safetensors\n",
        "!aria2c --console-log-level=error -c -x 16 -s 16 -k 1M https://huggingface.co/ckpt/ControlNet/resolve/main/control_openpose-fp16.safetensors -d /content/stable-diffusion-webui/extensions/sd-webui-controlnet/models -o control_openpose-fp16.safetensors\n",
        "!aria2c --console-log-level=error -c -x 16 -s 16 -k 1M https://huggingface.co/ckpt/ControlNet/resolve/main/control_scribble-fp16.safetensors -d /content/stable-diffusion-webui/extensions/sd-webui-controlnet/models -o control_scribble-fp16.safetensors\n",
        "!aria2c --console-log-level=error -c -x 16 -s 16 -k 1M https://huggingface.co/ckpt/ControlNet/resolve/main/control_seg-fp16.safetensors -d /content/stable-diffusion-webui/extensions/sd-webui-controlnet/models -o control_seg-fp16.safetensors\n",
        "!aria2c --console-log-level=error -c -x 16 -s 16 -k 1M https://huggingface.co/ckpt/ControlNet/resolve/main/hand_pose_model.pth -d /content/stable-diffusion-webui/extensions/sd-webui-controlnet/annotator/openpose -o hand_pose_model.pth\n",
        "!aria2c --console-log-level=error -c -x 16 -s 16 -k 1M https://huggingface.co/ckpt/ControlNet/resolve/main/body_pose_model.pth -d /content/stable-diffusion-webui/extensions/sd-webui-controlnet/annotator/openpose -o body_pose_model.pth\n",
        "!aria2c --console-log-level=error -c -x 16 -s 16 -k 1M https://huggingface.co/ckpt/ControlNet/resolve/main/dpt_hybrid-midas-501f0c75.pt -d /content/stable-diffusion-webui/extensions/sd-webui-controlnet/annotator/midas -o dpt_hybrid-midas-501f0c75.pt\n",
        "!aria2c --console-log-level=error -c -x 16 -s 16 -k 1M https://huggingface.co/ckpt/ControlNet/resolve/main/mlsd_large_512_fp32.pth -d /content/stable-diffusion-webui/extensions/sd-webui-controlnet/annotator/mlsd -o mlsd_large_512_fp32.pth\n",
        "!aria2c --console-log-level=error -c -x 16 -s 16 -k 1M https://huggingface.co/ckpt/ControlNet/resolve/main/mlsd_tiny_512_fp32.pth -d /content/stable-diffusion-webui/extensions/sd-webui-controlnet/annotator/mlsd -o mlsd_tiny_512_fp32.pth\n",
        "!aria2c --console-log-level=error -c -x 16 -s 16 -k 1M https://huggingface.co/ckpt/ControlNet/resolve/main/network-bsds500.pth -d /content/stable-diffusion-webui/extensions/sd-webui-controlnet/annotator/hed -o network-bsds500.pth\n",
        "!aria2c --console-log-level=error -c -x 16 -s 16 -k 1M https://huggingface.co/ckpt/ControlNet/resolve/main/upernet_global_small.pth -d /content/stable-diffusion-webui/extensions/sd-webui-controlnet/annotator/uniformer -o upernet_global_small.pth\n",
        "!aria2c --console-log-level=error -c -x 16 -s 16 -k 1M https://huggingface.co/ckpt/ControlNet/resolve/main/t2iadapter_style_sd14v1.pth -d /content/stable-diffusion-webui/extensions/sd-webui-controlnet/models -o t2iadapter_style_sd14v1.pth\n",
        "!aria2c --console-log-level=error -c -x 16 -s 16 -k 1M https://huggingface.co/ckpt/ControlNet/resolve/main/t2iadapter_sketch_sd14v1.pth -d /content/stable-diffusion-webui/extensions/sd-webui-controlnet/models -o t2iadapter_sketch_sd14v1.pth\n",
        "!aria2c --console-log-level=error -c -x 16 -s 16 -k 1M https://huggingface.co/ckpt/ControlNet/resolve/main/t2iadapter_seg_sd14v1.pth -d /content/stable-diffusion-webui/extensions/sd-webui-controlnet/models -o t2iadapter_seg_sd14v1.pth\n",
        "!aria2c --console-log-level=error -c -x 16 -s 16 -k 1M https://huggingface.co/ckpt/ControlNet/resolve/main/t2iadapter_openpose_sd14v1.pth -d /content/stable-diffusion-webui/extensions/sd-webui-controlnet/models -o t2iadapter_openpose_sd14v1.pth\n",
        "!aria2c --console-log-level=error -c -x 16 -s 16 -k 1M https://huggingface.co/ckpt/ControlNet/resolve/main/t2iadapter_keypose_sd14v1.pth -d /content/stable-diffusion-webui/extensions/sd-webui-controlnet/models -o t2iadapter_keypose_sd14v1.pth\n",
        "!aria2c --console-log-level=error -c -x 16 -s 16 -k 1M https://huggingface.co/ckpt/ControlNet/resolve/main/t2iadapter_depth_sd14v1.pth -d /content/stable-diffusion-webui/extensions/sd-webui-controlnet/models -o t2iadapter_depth_sd14v1.pth\n",
        "!aria2c --console-log-level=error -c -x 16 -s 16 -k 1M https://huggingface.co/ckpt/ControlNet/resolve/main/t2iadapter_color_sd14v1.pth -d /content/stable-diffusion-webui/extensions/sd-webui-controlnet/models -o t2iadapter_color_sd14v1.pth\n",
        "!aria2c --console-log-level=error -c -x 16 -s 16 -k 1M https://huggingface.co/ckpt/ControlNet/resolve/main/t2iadapter_canny_sd14v1.pth -d /content/stable-diffusion-webui/extensions/sd-webui-controlnet/models -o t2iadapter_canny_sd14v1.pth\n",
        "\n",
        "!aria2c --console-log-level=error -c -x 16 -s 16 -k 1M https://huggingface.co/ckpt/sd15/resolve/main/v1-5-pruned-emaonly.ckpt -d /content/stable-diffusion-webui/models/Stable-diffusion -o v1-5-pruned-emaonly.ckpt\n",
        "\n",
        "!sed -i -e '''/    prepare_environment()/a\\    os.system\\(f\\\"\"\"sed -i -e ''\\\"s/dict()))/dict())).cuda()/g\\\"'' /content/stable-diffusion-webui/repositories/stable-diffusion-stability-ai/ldm/util.py\"\"\")''' /content/stable-diffusion-webui/launch.py\n",
        "!sed -i -e 's/fastapi==0.90.1/fastapi==0.89.1/g' /content/stable-diffusion-webui/requirements_versions.txt\n",
        "\n",
        "!mkdir /content/stable-diffusion-webui/extensions/deforum-for-automatic1111-webui/models\n",
        "\n",
        "!python launch.py --listen --xformers --enable-insecure-extension-access --theme dark --gradio-queue --multiple"
      ]
    },
    {
      "cell_type": "markdown",
      "source": [
        "After the gradio link show up, stop the first cell & clear the code output"
      ],
      "metadata": {
        "id": "bpyEaUblkYtf"
      }
    },
    {
      "cell_type": "markdown",
      "source": [
        "# **Step 3：Load the LoRA/checkpoint**"
      ],
      "metadata": {
        "id": "J5DrJmSdkxzP"
      }
    },
    {
      "cell_type": "markdown",
      "source": [
        "DownLoad the LoRA/Checkpoint from web"
      ],
      "metadata": {
        "id": "2ysyW15qlkdP"
      }
    },
    {
      "cell_type": "code",
      "source": [
        "!curl -Lo /content/stable-diffusion-webui/models/Stable-diffusion/ChilloutMix.safetensors https://civitai.com/api/download/models/11745\n",
        "\n",
        "#!curl -Lo /content/stable-diffusion-webui/models/Stable-diffusion/Uber-Realistic-Porn-Merge-URPM.ckpt https://civitai.com/api/download/models/15640?type=Pruned%20Model&format=PickleTensor\n",
        "\n",
        "#!curl -Lo /content/stable-diffusion-webui/models/Stable-diffusion/realisticVisionV13_v13.ckpt https://civitai.com/api/download/models/6987?type=Pruned%20Model&format=SafeTensor\n",
        "\n",
        "## LoRA\n",
        "\n",
        "!curl -Lo /content/stable-diffusion-webui/models/Lora/breastinclassBetter_v141.safetensors https://civitai.com/api/download/models/23250\n",
        "\n",
        "!curl -Lo /content/stable-diffusion-webui/models/Lora/ChilloutMixss.safetensors https://civitai.com/api/download/models/12876\n",
        "\n",
        "!curl -Lo /content/stable-diffusion-webui/models/Lora/eunha.safetensors https://civitai.com/api/download/models/22655\n",
        "\n",
        "!curl -Lo /content/stable-diffusion-webui/models/Lora/koreanGalLoconLora_1.safetensors https://civitai.com/api/download/models/22971\n",
        "\n",
        "!cp \"/content/stable-diffusion-webui/models/Lora/ChilloutMix.safetensors\" \"/content/stable-diffusion-webui/models/Stable-diffusion\""
      ],
      "metadata": {
        "id": "BYfhBv6Dkwhv"
      },
      "execution_count": null,
      "outputs": []
    },
    {
      "cell_type": "markdown",
      "source": [
        "Load the LoRA/Checkpoint from google drive"
      ],
      "metadata": {
        "id": "G2zbidtplNI3"
      }
    },
    {
      "cell_type": "code",
      "source": [
        "!cp -r '/content/drive/MyDrive/stable-diffusion/Lora/.' '/content/stable-diffusion-webui/models/Lora'\n",
        "## 从云盘复制LoRA\n",
        "\n",
        "!cp -r '/content/drive/MyDrive/stable-diffusion/models/.' '/content/stable-diffusion-webui/models/Stable-diffusion'\n",
        "## 复制models"
      ],
      "metadata": {
        "id": "mN9ZDXmPDhAB"
      },
      "execution_count": null,
      "outputs": []
    },
    {
      "cell_type": "code",
      "source": [
        "## !rm -r '/content/stable-diffusion-webui/modeaaals/Lora/.'\n",
        "## 删除某个文件下的所有文件"
      ],
      "metadata": {
        "id": "Tq0xX0EneygH"
      },
      "execution_count": null,
      "outputs": []
    },
    {
      "cell_type": "code",
      "source": [
        "!cp -r '/content/stable-diffusion-webui/models/Lora/.' '/content/drive/MyDrive/stable-diffusion/Lora'\n",
        "## 把笔记本的LoRA备份到GDrive\n",
        "\n",
        "!cp -r '/content/stable-diffusion-webui/models/Stable-diffusion.' '/content/drive/MyDrive/stable-diffusion/models/'\n",
        "## 复制models"
      ],
      "metadata": {
        "id": "7asvP9Gc37R-"
      },
      "execution_count": null,
      "outputs": []
    },
    {
      "cell_type": "markdown",
      "source": [
        "# **Step 4：launch the web ui**"
      ],
      "metadata": {
        "id": "ADgCpm2-lauA"
      }
    },
    {
      "cell_type": "code",
      "source": [
        "!python launch.py --listen --xformers --enable-insecure-extension-access --theme dark --gradio-queue --multiple"
      ],
      "metadata": {
        "id": "WeFbtW9J6OVV",
        "outputId": "d6be60cf-5544-4ee6-ef49-8191dea14955",
        "colab": {
          "base_uri": "https://localhost:8080/"
        }
      },
      "execution_count": null,
      "outputs": [
        {
          "output_type": "stream",
          "name": "stdout",
          "text": [
            "Python 3.9.16 (main, Dec  7 2022, 01:11:51) \n",
            "[GCC 9.4.0]\n",
            "Commit hash: 0cc0ee1bcb4c24a8c9715f66cede06601bfc00c8\n",
            "Installing requirements for Web UI\n",
            "\n",
            "\n",
            "\n",
            "\n",
            "\n",
            "\n",
            "Launching Web UI with arguments: --listen --xformers --enable-insecure-extension-access --theme dark --gradio-queue --multiple\n",
            "2023-03-26 12:12:47.301171: I tensorflow/core/platform/cpu_feature_guard.cc:193] This TensorFlow binary is optimized with oneAPI Deep Neural Network Library (oneDNN) to use the following CPU instructions in performance-critical operations:  AVX2 FMA\n",
            "To enable them in other operations, rebuild TensorFlow with the appropriate compiler flags.\n",
            "2023-03-26 12:12:50.186546: W tensorflow/compiler/xla/stream_executor/platform/default/dso_loader.cc:64] Could not load dynamic library 'libnvinfer.so.7'; dlerror: libnvinfer.so.7: cannot open shared object file: No such file or directory; LD_LIBRARY_PATH: /usr/local/lib/python3.9/dist-packages/cv2/../../lib64:/usr/lib64-nvidia\n",
            "2023-03-26 12:12:50.186775: W tensorflow/compiler/xla/stream_executor/platform/default/dso_loader.cc:64] Could not load dynamic library 'libnvinfer_plugin.so.7'; dlerror: libnvinfer_plugin.so.7: cannot open shared object file: No such file or directory; LD_LIBRARY_PATH: /usr/local/lib/python3.9/dist-packages/cv2/../../lib64:/usr/lib64-nvidia\n",
            "2023-03-26 12:12:50.186802: W tensorflow/compiler/tf2tensorrt/utils/py_utils.cc:38] TF-TRT Warning: Cannot dlopen some TensorRT libraries. If you would like to use Nvidia GPU with TensorRT, please make sure the missing libraries mentioned above are installed properly.\n",
            "Additional Network extension not installed, Only hijack built-in lora\n",
            "LoCon Extension hijack built-in lora successfully\n",
            "[AddNet] Updating model hashes...\n",
            "0it [00:00, ?it/s]\n",
            "[AddNet] Updating model hashes...\n",
            "0it [00:00, ?it/s]\n",
            "all detected, remote.moe trying to connect...\n",
            "all detected, cloudflared trying to connect...\n",
            "Calculating sha256 for /content/stable-diffusion-webui/models/Stable-diffusion/Uber-Realistic-Porn-Merge-URPM.ckpt: 40f9701da0953f5215fb45f801ba61afc94e39a5f5d0d01a2bca2d41ab219b78\n",
            "Loading weights [40f9701da0] from /content/stable-diffusion-webui/models/Stable-diffusion/Uber-Realistic-Porn-Merge-URPM.ckpt\n",
            "Error verifying pickled file from /content/stable-diffusion-webui/models/Stable-diffusion/Uber-Realistic-Porn-Merge-URPM.ckpt:\n",
            "Traceback (most recent call last):\n",
            "  File \"/content/stable-diffusion-webui/modules/safe.py\", line 81, in check_pt\n",
            "    with zipfile.ZipFile(filename) as z:\n",
            "  File \"/usr/lib/python3.9/zipfile.py\", line 1266, in __init__\n",
            "    self._RealGetContents()\n",
            "  File \"/usr/lib/python3.9/zipfile.py\", line 1333, in _RealGetContents\n",
            "    raise BadZipFile(\"File is not a zip file\")\n",
            "zipfile.BadZipFile: File is not a zip file\n",
            "\n",
            "During handling of the above exception, another exception occurred:\n",
            "\n",
            "Traceback (most recent call last):\n",
            "  File \"/content/stable-diffusion-webui/modules/safe.py\", line 135, in load_with_extra\n",
            "    check_pt(filename, extra_handler)\n",
            "  File \"/content/stable-diffusion-webui/modules/safe.py\", line 102, in check_pt\n",
            "    unpickler.load()\n",
            "_pickle.UnpicklingError: invalid load key, '\\xcd'.\n",
            "\n",
            "-----> !!!! The file is most likely corrupted !!!! <-----\n",
            "You can skip this check with --disable-safe-unpickle commandline argument, but that is not going to help you.\n",
            "\n",
            "\n",
            "loading stable diffusion model: AttributeError\n",
            "Traceback (most recent call last):\n",
            "  File \"/content/stable-diffusion-webui/webui.py\", line 111, in initialize\n",
            "    modules.sd_models.load_model()\n",
            "  File \"/content/stable-diffusion-webui/modules/sd_models.py\", line 383, in load_model\n",
            "    state_dict = get_checkpoint_state_dict(checkpoint_info, timer)\n",
            "  File \"/content/stable-diffusion-webui/modules/sd_models.py\", line 238, in get_checkpoint_state_dict\n",
            "    res = read_state_dict(checkpoint_info.filename)\n",
            "  File \"/content/stable-diffusion-webui/modules/sd_models.py\", line 224, in read_state_dict\n",
            "    sd = get_state_dict_from_checkpoint(pl_sd)\n",
            "  File \"/content/stable-diffusion-webui/modules/sd_models.py\", line 197, in get_state_dict_from_checkpoint\n",
            "    pl_sd = pl_sd.pop(\"state_dict\", pl_sd)\n",
            "AttributeError: 'NoneType' object has no attribute 'pop'\n",
            "\n",
            "\n",
            "Stable diffusion model failed to load, exiting\n"
          ]
        }
      ]
    }
  ],
  "metadata": {
    "colab": {
      "provenance": [],
      "collapsed_sections": [
        "biEG6-5hi7tI"
      ],
      "include_colab_link": true
    },
    "gpuClass": "standard",
    "kernelspec": {
      "display_name": "Python 3",
      "name": "python3"
    },
    "language_info": {
      "name": "python"
    },
    "accelerator": "GPU"
  },
  "nbformat": 4,
  "nbformat_minor": 0
}